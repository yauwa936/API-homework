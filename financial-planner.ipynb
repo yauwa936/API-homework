{
 "cells": [
  {
   "cell_type": "markdown",
   "metadata": {},
   "source": [
    "# Unit 5 - Financial Planning"
   ]
  },
  {
   "cell_type": "code",
   "execution_count": 1,
   "metadata": {},
   "outputs": [],
   "source": [
    "# Initial imports\n",
    "import os\n",
    "import requests\n",
    "import pandas as pd\n",
    "from dotenv import load_dotenv\n",
    "import alpaca_trade_api as tradeapi\n",
    "from MCForecastTools import MCSimulation\n",
    "import json\n",
    "\n",
    "%matplotlib inline"
   ]
  },
  {
   "cell_type": "code",
   "execution_count": 2,
   "metadata": {},
   "outputs": [
    {
     "data": {
      "text/plain": [
       "True"
      ]
     },
     "execution_count": 2,
     "metadata": {},
     "output_type": "execute_result"
    }
   ],
   "source": [
    "# Load .env enviroment variables\n",
    "load_dotenv()"
   ]
  },
  {
   "cell_type": "markdown",
   "metadata": {},
   "source": [
    "## Part 1 - Personal Finance Planner"
   ]
  },
  {
   "cell_type": "markdown",
   "metadata": {},
   "source": [
    "### Collect Crypto Prices Using the `requests` Library"
   ]
  },
  {
   "cell_type": "code",
   "execution_count": 3,
   "metadata": {},
   "outputs": [],
   "source": [
    "# Set current amount of crypto assets\n",
    "my_btc = 1.2\n",
    "my_eth = 5.3"
   ]
  },
  {
   "cell_type": "code",
   "execution_count": 4,
   "metadata": {},
   "outputs": [],
   "source": [
    "# Crypto API URLs\n",
    "btc_url = \"https://api.alternative.me/v2/ticker/Bitcoin/?convert=CAD\"\n",
    "eth_url = \"https://api.alternative.me/v2/ticker/Ethereum/?convert=CAD\""
   ]
  },
  {
   "cell_type": "code",
   "execution_count": 5,
   "metadata": {},
   "outputs": [
    {
     "name": "stdout",
     "output_type": "stream",
     "text": [
      "{\n",
      "          \"data\": {\n",
      "                    \"1\": {\n",
      "                              \"id\": 1,\n",
      "                              \"name\": \"Bitcoin\",\n",
      "                              \"symbol\": \"BTC\",\n",
      "                              \"website_slug\": \"bitcoin\",\n",
      "                              \"rank\": 1,\n",
      "                              \"circulating_supply\": 18740237,\n",
      "                              \"total_supply\": 18740237,\n",
      "                              \"max_supply\": 21000000,\n",
      "                              \"quotes\": {\n",
      "                                        \"USD\": {\n",
      "                                                  \"price\": 32768.0,\n",
      "                                                  \"volume_24h\": 56387486399,\n",
      "                                                  \"market_cap\": 614075274645,\n",
      "                                                  \"percentage_change_1h\": 2.56140412596095,\n",
      "                                                  \"percentage_change_24h\": -7.41217569557176,\n",
      "                                                  \"percentage_change_7d\": -19.3399728460084,\n",
      "                                                  \"percent_change_1h\": 2.56140412596095,\n",
      "                                                  \"percent_change_24h\": -7.41217569557176,\n",
      "                                                  \"percent_change_7d\": -19.3399728460084\n",
      "                                        },\n",
      "                                        \"CAD\": {\n",
      "                                                  \"price\": 40560.2304,\n",
      "                                                  \"volume_24h\": 69796430664.6822,\n",
      "                                                  \"market_cap\": 760102374955.581,\n",
      "                                                  \"percent_change_1h\": 2.56140412596095,\n",
      "                                                  \"percent_change_24h\": -7.41217569557176,\n",
      "                                                  \"percent_change_7d\": -19.3399728460084\n",
      "                                        }\n",
      "                              },\n",
      "                              \"last_updated\": 1624326572\n",
      "                    }\n",
      "          },\n",
      "          \"metadata\": {\n",
      "                    \"timestamp\": 1624326572,\n",
      "                    \"num_cryptocurrencies\": 1282,\n",
      "                    \"error\": null\n",
      "          }\n",
      "}\n"
     ]
    }
   ],
   "source": [
    "# Fetch current BTC price\n",
    "btc_data = requests.get(btc_url).json()\n",
    "print(json.dumps(btc_data, indent=10))"
   ]
  },
  {
   "cell_type": "code",
   "execution_count": 6,
   "metadata": {},
   "outputs": [
    {
     "name": "stdout",
     "output_type": "stream",
     "text": [
      "40560.2304\n"
     ]
    }
   ],
   "source": [
    "# select the price of BTC\n",
    "my_btc_value = btc_data[\"data\"][\"1\"][\"quotes\"][\"CAD\"][\"price\"]\n",
    "print(my_btc_value)"
   ]
  },
  {
   "cell_type": "code",
   "execution_count": 7,
   "metadata": {},
   "outputs": [
    {
     "name": "stdout",
     "output_type": "stream",
     "text": [
      "{\n",
      "          \"data\": {\n",
      "                    \"1027\": {\n",
      "                              \"id\": 1027,\n",
      "                              \"name\": \"Ethereum\",\n",
      "                              \"symbol\": \"ETH\",\n",
      "                              \"website_slug\": \"ethereum\",\n",
      "                              \"rank\": 2,\n",
      "                              \"circulating_supply\": 116388521,\n",
      "                              \"total_supply\": 116388521,\n",
      "                              \"max_supply\": 0,\n",
      "                              \"quotes\": {\n",
      "                                        \"USD\": {\n",
      "                                                  \"price\": 1963.13,\n",
      "                                                  \"volume_24h\": 43034785907,\n",
      "                                                  \"market_cap\": 227905111404,\n",
      "                                                  \"percentage_change_1h\": 2.3682024536475,\n",
      "                                                  \"percentage_change_24h\": -11.3475699201106,\n",
      "                                                  \"percentage_change_7d\": -24.1267682076418,\n",
      "                                                  \"percent_change_1h\": 2.3682024536475,\n",
      "                                                  \"percent_change_24h\": -11.3475699201106,\n",
      "                                                  \"percent_change_7d\": -24.1267682076418\n",
      "                                        },\n",
      "                                        \"CAD\": {\n",
      "                                                  \"price\": 2429.962314,\n",
      "                                                  \"volume_24h\": 53268457995.6846,\n",
      "                                                  \"market_cap\": 282100946895.871,\n",
      "                                                  \"percent_change_1h\": 2.3682024536475,\n",
      "                                                  \"percent_change_24h\": -11.3475699201106,\n",
      "                                                  \"percent_change_7d\": -24.1267682076418\n",
      "                                        }\n",
      "                              },\n",
      "                              \"last_updated\": 1624326572\n",
      "                    }\n",
      "          },\n",
      "          \"metadata\": {\n",
      "                    \"timestamp\": 1624326572,\n",
      "                    \"num_cryptocurrencies\": 1282,\n",
      "                    \"error\": null\n",
      "          }\n",
      "}\n"
     ]
    }
   ],
   "source": [
    "# Fetch current ETH price\n",
    "eth_data = requests.get(eth_url).json()\n",
    "print(json.dumps(eth_data, indent=10))"
   ]
  },
  {
   "cell_type": "code",
   "execution_count": 8,
   "metadata": {},
   "outputs": [
    {
     "name": "stdout",
     "output_type": "stream",
     "text": [
      "2429.962314\n"
     ]
    }
   ],
   "source": [
    "# select the ETH price\n",
    "my_eth_value = eth_data[\"data\"][\"1027\"][\"quotes\"][\"CAD\"][\"price\"]\n",
    "print(my_eth_value)"
   ]
  },
  {
   "cell_type": "code",
   "execution_count": 9,
   "metadata": {},
   "outputs": [
    {
     "name": "stdout",
     "output_type": "stream",
     "text": [
      "The current value of your 1.2 BTC is $40560.23\n",
      "The current value of your 5.3 ETH is $2429.96\n"
     ]
    }
   ],
   "source": [
    "# Print current crypto wallet balance\n",
    "print(f\"The current value of your {my_btc} BTC is ${my_btc_value:0.2f}\")\n",
    "print(f\"The current value of your {my_eth} ETH is ${my_eth_value:0.2f}\")"
   ]
  },
  {
   "cell_type": "markdown",
   "metadata": {},
   "source": [
    "### Collect Investments Data Using Alpaca: `SPY` (stocks) and `AGG` (bonds)"
   ]
  },
  {
   "cell_type": "code",
   "execution_count": 10,
   "metadata": {},
   "outputs": [],
   "source": [
    "# Set current amount of shares\n",
    "my_agg = 200\n",
    "my_spy = 50"
   ]
  },
  {
   "cell_type": "code",
   "execution_count": 11,
   "metadata": {},
   "outputs": [],
   "source": [
    "# Set Alpaca API key and secret\n",
    "alpaca_api_key = os.getenv(\"ALPACA_API_KEY\")\n",
    "alpaca_secret_key = os.getenv(\"ALPACA_SECRET_KEY\")\n",
    "\n",
    "# Create the Alpaca API object\n",
    "alpaca = tradeapi.REST(\n",
    "    alpaca_api_key,\n",
    "    alpaca_secret_key,\n",
    "    api_version=\"v2\")"
   ]
  },
  {
   "cell_type": "code",
   "execution_count": 12,
   "metadata": {},
   "outputs": [
    {
     "data": {
      "text/html": [
       "<div>\n",
       "<style scoped>\n",
       "    .dataframe tbody tr th:only-of-type {\n",
       "        vertical-align: middle;\n",
       "    }\n",
       "\n",
       "    .dataframe tbody tr th {\n",
       "        vertical-align: top;\n",
       "    }\n",
       "\n",
       "    .dataframe thead tr th {\n",
       "        text-align: left;\n",
       "    }\n",
       "\n",
       "    .dataframe thead tr:last-of-type th {\n",
       "        text-align: right;\n",
       "    }\n",
       "</style>\n",
       "<table border=\"1\" class=\"dataframe\">\n",
       "  <thead>\n",
       "    <tr>\n",
       "      <th></th>\n",
       "      <th colspan=\"5\" halign=\"left\">AGG</th>\n",
       "      <th colspan=\"5\" halign=\"left\">SPY</th>\n",
       "    </tr>\n",
       "    <tr>\n",
       "      <th></th>\n",
       "      <th>open</th>\n",
       "      <th>high</th>\n",
       "      <th>low</th>\n",
       "      <th>close</th>\n",
       "      <th>volume</th>\n",
       "      <th>open</th>\n",
       "      <th>high</th>\n",
       "      <th>low</th>\n",
       "      <th>close</th>\n",
       "      <th>volume</th>\n",
       "    </tr>\n",
       "    <tr>\n",
       "      <th>time</th>\n",
       "      <th></th>\n",
       "      <th></th>\n",
       "      <th></th>\n",
       "      <th></th>\n",
       "      <th></th>\n",
       "      <th></th>\n",
       "      <th></th>\n",
       "      <th></th>\n",
       "      <th></th>\n",
       "      <th></th>\n",
       "    </tr>\n",
       "  </thead>\n",
       "  <tbody>\n",
       "    <tr>\n",
       "      <th>2021-06-18 00:00:00-04:00</th>\n",
       "      <td>115.05</td>\n",
       "      <td>115.39</td>\n",
       "      <td>114.91</td>\n",
       "      <td>115.29</td>\n",
       "      <td>5438261</td>\n",
       "      <td>417.08</td>\n",
       "      <td>417.8281</td>\n",
       "      <td>414.7</td>\n",
       "      <td>415.01</td>\n",
       "      <td>92753385</td>\n",
       "    </tr>\n",
       "  </tbody>\n",
       "</table>\n",
       "</div>"
      ],
      "text/plain": [
       "                              AGG                                      SPY  \\\n",
       "                             open    high     low   close   volume    open   \n",
       "time                                                                         \n",
       "2021-06-18 00:00:00-04:00  115.05  115.39  114.91  115.29  5438261  417.08   \n",
       "\n",
       "                                                              \n",
       "                               high    low   close    volume  \n",
       "time                                                          \n",
       "2021-06-18 00:00:00-04:00  417.8281  414.7  415.01  92753385  "
      ]
     },
     "execution_count": 12,
     "metadata": {},
     "output_type": "execute_result"
    }
   ],
   "source": [
    "# Format current date as ISO format\n",
    "today = pd.Timestamp(\"2021-06-18\", tz=\"America/New_York\").isoformat()\n",
    "\n",
    "# Set the tickers\n",
    "tickers = [\"AGG\", \"SPY\"]\n",
    "\n",
    "# Set timeframe to '1D' for Alpaca API\n",
    "timeframe = \"1D\"\n",
    "\n",
    "# Get current closing prices for SPY and AGG\n",
    "df_stocks_today = alpaca.get_barset(\n",
    "    tickers,\n",
    "    timeframe,\n",
    "    start = today,\n",
    "    end = today,\n",
    "    limit=1000\n",
    ").df\n",
    "\n",
    "# Preview DataFrame\n",
    "df_stocks_today"
   ]
  },
  {
   "cell_type": "code",
   "execution_count": 13,
   "metadata": {},
   "outputs": [],
   "source": [
    "# Fetch the current closing prices from the DataFrame\n",
    "agg_close_price = float(df_stocks_today[\"AGG\"][\"close\"])\n",
    "spy_close_price = float(df_stocks_today[\"SPY\"][\"close\"])"
   ]
  },
  {
   "cell_type": "code",
   "execution_count": 14,
   "metadata": {},
   "outputs": [
    {
     "name": "stdout",
     "output_type": "stream",
     "text": [
      "Current AGG closing price: $115.29\n",
      "Current SPY closing price: $415.01\n"
     ]
    }
   ],
   "source": [
    "# Print AGG and SPY close prices\n",
    "print(f\"Current AGG closing price: ${agg_close_price}\")\n",
    "print(f\"Current SPY closing price: ${spy_close_price}\")"
   ]
  },
  {
   "cell_type": "code",
   "execution_count": 15,
   "metadata": {},
   "outputs": [
    {
     "name": "stdout",
     "output_type": "stream",
     "text": [
      "The current value of your 50 SPY shares is $20750.50\n",
      "The current value of your 200 AGG shares is $23058.00\n"
     ]
    }
   ],
   "source": [
    "# Compute the current value of shares\n",
    "my_spy_value = spy_close_price * my_spy\n",
    "my_agg_value = agg_close_price * my_agg\n",
    "# Print current value of shares\n",
    "print(f\"The current value of your {my_spy} SPY shares is ${my_spy_value:0.2f}\")\n",
    "print(f\"The current value of your {my_agg} AGG shares is ${my_agg_value:0.2f}\")"
   ]
  },
  {
   "cell_type": "markdown",
   "metadata": {},
   "source": [
    "### Savings Health Analysis"
   ]
  },
  {
   "cell_type": "code",
   "execution_count": 16,
   "metadata": {},
   "outputs": [
    {
     "data": {
      "text/html": [
       "<div>\n",
       "<style scoped>\n",
       "    .dataframe tbody tr th:only-of-type {\n",
       "        vertical-align: middle;\n",
       "    }\n",
       "\n",
       "    .dataframe tbody tr th {\n",
       "        vertical-align: top;\n",
       "    }\n",
       "\n",
       "    .dataframe thead th {\n",
       "        text-align: right;\n",
       "    }\n",
       "</style>\n",
       "<table border=\"1\" class=\"dataframe\">\n",
       "  <thead>\n",
       "    <tr style=\"text-align: right;\">\n",
       "      <th></th>\n",
       "      <th>amount</th>\n",
       "    </tr>\n",
       "  </thead>\n",
       "  <tbody>\n",
       "    <tr>\n",
       "      <th>crypto</th>\n",
       "      <td>42990.192714</td>\n",
       "    </tr>\n",
       "    <tr>\n",
       "      <th>shares</th>\n",
       "      <td>43808.500000</td>\n",
       "    </tr>\n",
       "  </tbody>\n",
       "</table>\n",
       "</div>"
      ],
      "text/plain": [
       "              amount\n",
       "crypto  42990.192714\n",
       "shares  43808.500000"
      ]
     },
     "metadata": {},
     "output_type": "display_data"
    }
   ],
   "source": [
    "# Set monthly household income\n",
    "monthly_income = 12000\n",
    "\n",
    "# Consolidate financial assets data\n",
    "df_data = {\n",
    "    \"amount\": [my_btc_value + my_eth_value, my_spy_value + my_agg_value],\n",
    "}\n",
    "\n",
    "tickers = [\"crypto\", \"shares\"]\n",
    "\n",
    "df_savings = pd.DataFrame(df_data, index=tickers)\n",
    "\n",
    "\n",
    "# Create savings DataFrame\n",
    "#df_savings[\"Total Crypto Value\"] = my_btc_value + my_eth_value\n",
    "#df_savings[\"Total Shares Value\"] = my_agg_value + my_spy_value\n",
    "\n",
    "# Display savings DataFrame\n",
    "display(df_savings)"
   ]
  },
  {
   "cell_type": "code",
   "execution_count": 17,
   "metadata": {},
   "outputs": [
    {
     "data": {
      "text/plain": [
       "<AxesSubplot:title={'center':'Total Worth Pie Chart'}, ylabel='amount'>"
      ]
     },
     "execution_count": 17,
     "metadata": {},
     "output_type": "execute_result"
    },
    {
     "data": {
      "image/png": "[encoded data removed]",
      "text/plain": [
       "<Figure size 432x288 with 1 Axes>"
      ]
     },
     "metadata": {},
     "output_type": "display_data"
    }
   ],
   "source": [
    "# Plot savings pie chart\n",
    "df_savings.plot.pie(y=\"amount\", title=\"Total Worth Pie Chart\")"
   ]
  },
  {
   "cell_type": "code",
   "execution_count": 18,
   "metadata": {},
   "outputs": [
    {
     "name": "stdout",
     "output_type": "stream",
     "text": [
      "Congrats, my friend. You have enough money in this fund!\n"
     ]
    }
   ],
   "source": [
    "# Set ideal emergency fund\n",
    "emergency_fund = monthly_income * 3\n",
    "total_savings = float(df_savings.sum())\n",
    "\n",
    "# Calculate total amount of savings\n",
    "# Validate saving health\n",
    "if total_savings > emergency_fund:\n",
    "    print(\"Congrats, my friend. You have enough money in this fund!\")\n",
    "elif total_savings == emergency_fund:\n",
    "    print(\"Congrats, my friend. You have reach your finacial goal!\")\n",
    "elif total_savings < emergency_fund:\n",
    "    print(\"Keep saving! You are ${emeregency_fund - total_saving}away from your goal!\")\n"
   ]
  },
  {
   "cell_type": "markdown",
   "metadata": {},
   "source": [
    "## Part 2 - Retirement Planning\n",
    "\n",
    "### Monte Carlo Simulation"
   ]
  },
  {
   "cell_type": "code",
   "execution_count": 19,
   "metadata": {},
   "outputs": [],
   "source": [
    "# Set start and end dates of five years back from today.\n",
    "# Sample results may vary from the solution based on the time frame chosen\n",
    "start_date = pd.Timestamp('2016-06-01', tz='America/New_York').isoformat()\n",
    "end_date = pd.Timestamp('2021-06-01', tz='America/New_York').isoformat()"
   ]
  },
  {
   "cell_type": "code",
   "execution_count": 20,
   "metadata": {},
   "outputs": [
    {
     "data": {
      "text/html": [
       "<div>\n",
       "<style scoped>\n",
       "    .dataframe tbody tr th:only-of-type {\n",
       "        vertical-align: middle;\n",
       "    }\n",
       "\n",
       "    .dataframe tbody tr th {\n",
       "        vertical-align: top;\n",
       "    }\n",
       "\n",
       "    .dataframe thead tr th {\n",
       "        text-align: left;\n",
       "    }\n",
       "\n",
       "    .dataframe thead tr:last-of-type th {\n",
       "        text-align: right;\n",
       "    }\n",
       "</style>\n",
       "<table border=\"1\" class=\"dataframe\">\n",
       "  <thead>\n",
       "    <tr>\n",
       "      <th></th>\n",
       "      <th colspan=\"5\" halign=\"left\">AGG</th>\n",
       "      <th colspan=\"5\" halign=\"left\">SPY</th>\n",
       "    </tr>\n",
       "    <tr>\n",
       "      <th></th>\n",
       "      <th>open</th>\n",
       "      <th>high</th>\n",
       "      <th>low</th>\n",
       "      <th>close</th>\n",
       "      <th>volume</th>\n",
       "      <th>open</th>\n",
       "      <th>high</th>\n",
       "      <th>low</th>\n",
       "      <th>close</th>\n",
       "      <th>volume</th>\n",
       "    </tr>\n",
       "    <tr>\n",
       "      <th>time</th>\n",
       "      <th></th>\n",
       "      <th></th>\n",
       "      <th></th>\n",
       "      <th></th>\n",
       "      <th></th>\n",
       "      <th></th>\n",
       "      <th></th>\n",
       "      <th></th>\n",
       "      <th></th>\n",
       "      <th></th>\n",
       "    </tr>\n",
       "  </thead>\n",
       "  <tbody>\n",
       "    <tr>\n",
       "      <th>2017-06-12 00:00:00-04:00</th>\n",
       "      <td>109.51</td>\n",
       "      <td>109.6958</td>\n",
       "      <td>109.47</td>\n",
       "      <td>109.555</td>\n",
       "      <td>1184601</td>\n",
       "      <td>243.14</td>\n",
       "      <td>243.42</td>\n",
       "      <td>242.3800</td>\n",
       "      <td>243.34</td>\n",
       "      <td>57096569</td>\n",
       "    </tr>\n",
       "    <tr>\n",
       "      <th>2017-06-13 00:00:00-04:00</th>\n",
       "      <td>109.43</td>\n",
       "      <td>109.6000</td>\n",
       "      <td>109.43</td>\n",
       "      <td>109.580</td>\n",
       "      <td>1324388</td>\n",
       "      <td>243.99</td>\n",
       "      <td>244.61</td>\n",
       "      <td>243.5799</td>\n",
       "      <td>244.52</td>\n",
       "      <td>43470532</td>\n",
       "    </tr>\n",
       "    <tr>\n",
       "      <th>2017-06-14 00:00:00-04:00</th>\n",
       "      <td>110.00</td>\n",
       "      <td>110.1800</td>\n",
       "      <td>109.85</td>\n",
       "      <td>109.950</td>\n",
       "      <td>2304819</td>\n",
       "      <td>244.86</td>\n",
       "      <td>244.87</td>\n",
       "      <td>243.2900</td>\n",
       "      <td>244.26</td>\n",
       "      <td>55098826</td>\n",
       "    </tr>\n",
       "    <tr>\n",
       "      <th>2017-06-15 00:00:00-04:00</th>\n",
       "      <td>109.90</td>\n",
       "      <td>109.9000</td>\n",
       "      <td>109.78</td>\n",
       "      <td>109.870</td>\n",
       "      <td>1938779</td>\n",
       "      <td>242.68</td>\n",
       "      <td>243.91</td>\n",
       "      <td>242.3600</td>\n",
       "      <td>243.79</td>\n",
       "      <td>51523068</td>\n",
       "    </tr>\n",
       "    <tr>\n",
       "      <th>2017-06-16 00:00:00-04:00</th>\n",
       "      <td>109.86</td>\n",
       "      <td>109.9700</td>\n",
       "      <td>109.85</td>\n",
       "      <td>109.945</td>\n",
       "      <td>1709677</td>\n",
       "      <td>242.77</td>\n",
       "      <td>242.83</td>\n",
       "      <td>241.6337</td>\n",
       "      <td>242.63</td>\n",
       "      <td>48998243</td>\n",
       "    </tr>\n",
       "  </tbody>\n",
       "</table>\n",
       "</div>"
      ],
      "text/plain": [
       "                              AGG                                         SPY  \\\n",
       "                             open      high     low    close   volume    open   \n",
       "time                                                                            \n",
       "2017-06-12 00:00:00-04:00  109.51  109.6958  109.47  109.555  1184601  243.14   \n",
       "2017-06-13 00:00:00-04:00  109.43  109.6000  109.43  109.580  1324388  243.99   \n",
       "2017-06-14 00:00:00-04:00  110.00  110.1800  109.85  109.950  2304819  244.86   \n",
       "2017-06-15 00:00:00-04:00  109.90  109.9000  109.78  109.870  1938779  242.68   \n",
       "2017-06-16 00:00:00-04:00  109.86  109.9700  109.85  109.945  1709677  242.77   \n",
       "\n",
       "                                                               \n",
       "                             high       low   close    volume  \n",
       "time                                                           \n",
       "2017-06-12 00:00:00-04:00  243.42  242.3800  243.34  57096569  \n",
       "2017-06-13 00:00:00-04:00  244.61  243.5799  244.52  43470532  \n",
       "2017-06-14 00:00:00-04:00  244.87  243.2900  244.26  55098826  \n",
       "2017-06-15 00:00:00-04:00  243.91  242.3600  243.79  51523068  \n",
       "2017-06-16 00:00:00-04:00  242.83  241.6337  242.63  48998243  "
      ]
     },
     "execution_count": 20,
     "metadata": {},
     "output_type": "execute_result"
    }
   ],
   "source": [
    "# Get 5 years' worth of historical data for SPY and AGG\n",
    "# (use a limit=1000 parameter to call the most recent 1000 days of data)\n",
    "ticker = [\"AGG\", \"SPY\"]\n",
    "\n",
    "df_stock_data = alpaca.get_barset(\n",
    "    ticker,\n",
    "    timeframe,\n",
    "    start = start_date,\n",
    "    end = end_date,\n",
    "    limit = 1000\n",
    ").df\n",
    "\n",
    "# Display sample data\n",
    "df_stock_data.head()"
   ]
  },
  {
   "cell_type": "code",
   "execution_count": 28,
   "metadata": {},
   "outputs": [],
   "source": [
    "# Configuring a Monte Carlo simulation to forecast 30 years cumulative returns\n",
    "MC_30years = MCSimulation(\n",
    "    portfolio_data = df_stock_data,\n",
    "    weights = [.40,.60],\n",
    "    num_simulation = 500,\n",
    "    num_trading_days = 252*30\n",
    ")"
   ]
  },
  {
   "cell_type": "code",
   "execution_count": 29,
   "metadata": {},
   "outputs": [
    {
     "data": {
      "text/html": [
       "<div>\n",
       "<style scoped>\n",
       "    .dataframe tbody tr th:only-of-type {\n",
       "        vertical-align: middle;\n",
       "    }\n",
       "\n",
       "    .dataframe tbody tr th {\n",
       "        vertical-align: top;\n",
       "    }\n",
       "\n",
       "    .dataframe thead tr th {\n",
       "        text-align: left;\n",
       "    }\n",
       "\n",
       "    .dataframe thead tr:last-of-type th {\n",
       "        text-align: right;\n",
       "    }\n",
       "</style>\n",
       "<table border=\"1\" class=\"dataframe\">\n",
       "  <thead>\n",
       "    <tr>\n",
       "      <th></th>\n",
       "      <th colspan=\"6\" halign=\"left\">AGG</th>\n",
       "      <th colspan=\"6\" halign=\"left\">SPY</th>\n",
       "    </tr>\n",
       "    <tr>\n",
       "      <th></th>\n",
       "      <th>open</th>\n",
       "      <th>high</th>\n",
       "      <th>low</th>\n",
       "      <th>close</th>\n",
       "      <th>volume</th>\n",
       "      <th>daily_return</th>\n",
       "      <th>open</th>\n",
       "      <th>high</th>\n",
       "      <th>low</th>\n",
       "      <th>close</th>\n",
       "      <th>volume</th>\n",
       "      <th>daily_return</th>\n",
       "    </tr>\n",
       "    <tr>\n",
       "      <th>time</th>\n",
       "      <th></th>\n",
       "      <th></th>\n",
       "      <th></th>\n",
       "      <th></th>\n",
       "      <th></th>\n",
       "      <th></th>\n",
       "      <th></th>\n",
       "      <th></th>\n",
       "      <th></th>\n",
       "      <th></th>\n",
       "      <th></th>\n",
       "      <th></th>\n",
       "    </tr>\n",
       "  </thead>\n",
       "  <tbody>\n",
       "    <tr>\n",
       "      <th>2017-06-12 00:00:00-04:00</th>\n",
       "      <td>109.51</td>\n",
       "      <td>109.6958</td>\n",
       "      <td>109.47</td>\n",
       "      <td>109.555</td>\n",
       "      <td>1184601</td>\n",
       "      <td>NaN</td>\n",
       "      <td>243.14</td>\n",
       "      <td>243.42</td>\n",
       "      <td>242.3800</td>\n",
       "      <td>243.34</td>\n",
       "      <td>57096569</td>\n",
       "      <td>NaN</td>\n",
       "    </tr>\n",
       "    <tr>\n",
       "      <th>2017-06-13 00:00:00-04:00</th>\n",
       "      <td>109.43</td>\n",
       "      <td>109.6000</td>\n",
       "      <td>109.43</td>\n",
       "      <td>109.580</td>\n",
       "      <td>1324388</td>\n",
       "      <td>0.000228</td>\n",
       "      <td>243.99</td>\n",
       "      <td>244.61</td>\n",
       "      <td>243.5799</td>\n",
       "      <td>244.52</td>\n",
       "      <td>43470532</td>\n",
       "      <td>0.004849</td>\n",
       "    </tr>\n",
       "    <tr>\n",
       "      <th>2017-06-14 00:00:00-04:00</th>\n",
       "      <td>110.00</td>\n",
       "      <td>110.1800</td>\n",
       "      <td>109.85</td>\n",
       "      <td>109.950</td>\n",
       "      <td>2304819</td>\n",
       "      <td>0.003377</td>\n",
       "      <td>244.86</td>\n",
       "      <td>244.87</td>\n",
       "      <td>243.2900</td>\n",
       "      <td>244.26</td>\n",
       "      <td>55098826</td>\n",
       "      <td>-0.001063</td>\n",
       "    </tr>\n",
       "    <tr>\n",
       "      <th>2017-06-15 00:00:00-04:00</th>\n",
       "      <td>109.90</td>\n",
       "      <td>109.9000</td>\n",
       "      <td>109.78</td>\n",
       "      <td>109.870</td>\n",
       "      <td>1938779</td>\n",
       "      <td>-0.000728</td>\n",
       "      <td>242.68</td>\n",
       "      <td>243.91</td>\n",
       "      <td>242.3600</td>\n",
       "      <td>243.79</td>\n",
       "      <td>51523068</td>\n",
       "      <td>-0.001924</td>\n",
       "    </tr>\n",
       "    <tr>\n",
       "      <th>2017-06-16 00:00:00-04:00</th>\n",
       "      <td>109.86</td>\n",
       "      <td>109.9700</td>\n",
       "      <td>109.85</td>\n",
       "      <td>109.945</td>\n",
       "      <td>1709677</td>\n",
       "      <td>0.000683</td>\n",
       "      <td>242.77</td>\n",
       "      <td>242.83</td>\n",
       "      <td>241.6337</td>\n",
       "      <td>242.63</td>\n",
       "      <td>48998243</td>\n",
       "      <td>-0.004758</td>\n",
       "    </tr>\n",
       "  </tbody>\n",
       "</table>\n",
       "</div>"
      ],
      "text/plain": [
       "                              AGG                                      \\\n",
       "                             open      high     low    close   volume   \n",
       "time                                                                    \n",
       "2017-06-12 00:00:00-04:00  109.51  109.6958  109.47  109.555  1184601   \n",
       "2017-06-13 00:00:00-04:00  109.43  109.6000  109.43  109.580  1324388   \n",
       "2017-06-14 00:00:00-04:00  110.00  110.1800  109.85  109.950  2304819   \n",
       "2017-06-15 00:00:00-04:00  109.90  109.9000  109.78  109.870  1938779   \n",
       "2017-06-16 00:00:00-04:00  109.86  109.9700  109.85  109.945  1709677   \n",
       "\n",
       "                                           SPY                            \\\n",
       "                          daily_return    open    high       low   close   \n",
       "time                                                                       \n",
       "2017-06-12 00:00:00-04:00          NaN  243.14  243.42  242.3800  243.34   \n",
       "2017-06-13 00:00:00-04:00     0.000228  243.99  244.61  243.5799  244.52   \n",
       "2017-06-14 00:00:00-04:00     0.003377  244.86  244.87  243.2900  244.26   \n",
       "2017-06-15 00:00:00-04:00    -0.000728  242.68  243.91  242.3600  243.79   \n",
       "2017-06-16 00:00:00-04:00     0.000683  242.77  242.83  241.6337  242.63   \n",
       "\n",
       "                                                  \n",
       "                             volume daily_return  \n",
       "time                                              \n",
       "2017-06-12 00:00:00-04:00  57096569          NaN  \n",
       "2017-06-13 00:00:00-04:00  43470532     0.004849  \n",
       "2017-06-14 00:00:00-04:00  55098826    -0.001063  \n",
       "2017-06-15 00:00:00-04:00  51523068    -0.001924  \n",
       "2017-06-16 00:00:00-04:00  48998243    -0.004758  "
      ]
     },
     "execution_count": 29,
     "metadata": {},
     "output_type": "execute_result"
    }
   ],
   "source": [
    "# Printing the simulation input data\n",
    "MC_30years.portfolio_data.head()"
   ]
  },
  {
   "cell_type": "code",
   "execution_count": 30,
   "metadata": {},
   "outputs": [
    {
     "name": "stdout",
     "output_type": "stream",
     "text": [
      "Running Monte Carlo simulation number 0.\n",
      "Running Monte Carlo simulation number 10.\n",
      "Running Monte Carlo simulation number 20.\n",
      "Running Monte Carlo simulation number 30.\n",
      "Running Monte Carlo simulation number 40.\n",
      "Running Monte Carlo simulation number 50.\n",
      "Running Monte Carlo simulation number 60.\n",
      "Running Monte Carlo simulation number 70.\n",
      "Running Monte Carlo simulation number 80.\n",
      "Running Monte Carlo simulation number 90.\n",
      "Running Monte Carlo simulation number 100.\n",
      "Running Monte Carlo simulation number 110.\n",
      "Running Monte Carlo simulation number 120.\n",
      "Running Monte Carlo simulation number 130.\n",
      "Running Monte Carlo simulation number 140.\n",
      "Running Monte Carlo simulation number 150.\n",
      "Running Monte Carlo simulation number 160.\n",
      "Running Monte Carlo simulation number 170.\n",
      "Running Monte Carlo simulation number 180.\n",
      "Running Monte Carlo simulation number 190.\n",
      "Running Monte Carlo simulation number 200.\n",
      "Running Monte Carlo simulation number 210.\n",
      "Running Monte Carlo simulation number 220.\n",
      "Running Monte Carlo simulation number 230.\n",
      "Running Monte Carlo simulation number 240.\n",
      "Running Monte Carlo simulation number 250.\n",
      "Running Monte Carlo simulation number 260.\n",
      "Running Monte Carlo simulation number 270.\n",
      "Running Monte Carlo simulation number 280.\n",
      "Running Monte Carlo simulation number 290.\n",
      "Running Monte Carlo simulation number 300.\n",
      "Running Monte Carlo simulation number 310.\n",
      "Running Monte Carlo simulation number 320.\n",
      "Running Monte Carlo simulation number 330.\n",
      "Running Monte Carlo simulation number 340.\n",
      "Running Monte Carlo simulation number 350.\n",
      "Running Monte Carlo simulation number 360.\n",
      "Running Monte Carlo simulation number 370.\n",
      "Running Monte Carlo simulation number 380.\n",
      "Running Monte Carlo simulation number 390.\n",
      "Running Monte Carlo simulation number 400.\n",
      "Running Monte Carlo simulation number 410.\n",
      "Running Monte Carlo simulation number 420.\n",
      "Running Monte Carlo simulation number 430.\n",
      "Running Monte Carlo simulation number 440.\n",
      "Running Monte Carlo simulation number 450.\n",
      "Running Monte Carlo simulation number 460.\n",
      "Running Monte Carlo simulation number 470.\n",
      "Running Monte Carlo simulation number 480.\n",
      "Running Monte Carlo simulation number 490.\n"
     ]
    },
    {
     "data": {
      "text/html": [
       "<div>\n",
       "<style scoped>\n",
       "    .dataframe tbody tr th:only-of-type {\n",
       "        vertical-align: middle;\n",
       "    }\n",
       "\n",
       "    .dataframe tbody tr th {\n",
       "        vertical-align: top;\n",
       "    }\n",
       "\n",
       "    .dataframe thead th {\n",
       "        text-align: right;\n",
       "    }\n",
       "</style>\n",
       "<table border=\"1\" class=\"dataframe\">\n",
       "  <thead>\n",
       "    <tr style=\"text-align: right;\">\n",
       "      <th></th>\n",
       "      <th>0</th>\n",
       "      <th>1</th>\n",
       "      <th>2</th>\n",
       "      <th>3</th>\n",
       "      <th>4</th>\n",
       "      <th>5</th>\n",
       "      <th>6</th>\n",
       "      <th>7</th>\n",
       "      <th>8</th>\n",
       "      <th>9</th>\n",
       "      <th>...</th>\n",
       "      <th>490</th>\n",
       "      <th>491</th>\n",
       "      <th>492</th>\n",
       "      <th>493</th>\n",
       "      <th>494</th>\n",
       "      <th>495</th>\n",
       "      <th>496</th>\n",
       "      <th>497</th>\n",
       "      <th>498</th>\n",
       "      <th>499</th>\n",
       "    </tr>\n",
       "  </thead>\n",
       "  <tbody>\n",
       "    <tr>\n",
       "      <th>0</th>\n",
       "      <td>1.000000</td>\n",
       "      <td>1.000000</td>\n",
       "      <td>1.000000</td>\n",
       "      <td>1.000000</td>\n",
       "      <td>1.000000</td>\n",
       "      <td>1.000000</td>\n",
       "      <td>1.000000</td>\n",
       "      <td>1.000000</td>\n",
       "      <td>1.000000</td>\n",
       "      <td>1.000000</td>\n",
       "      <td>...</td>\n",
       "      <td>1.000000</td>\n",
       "      <td>1.000000</td>\n",
       "      <td>1.000000</td>\n",
       "      <td>1.000000</td>\n",
       "      <td>1.000000</td>\n",
       "      <td>1.000000</td>\n",
       "      <td>1.000000</td>\n",
       "      <td>1.000000</td>\n",
       "      <td>1.000000</td>\n",
       "      <td>1.000000</td>\n",
       "    </tr>\n",
       "    <tr>\n",
       "      <th>1</th>\n",
       "      <td>0.989890</td>\n",
       "      <td>1.000164</td>\n",
       "      <td>1.003898</td>\n",
       "      <td>1.005127</td>\n",
       "      <td>1.010227</td>\n",
       "      <td>1.000072</td>\n",
       "      <td>0.996868</td>\n",
       "      <td>1.012456</td>\n",
       "      <td>1.000110</td>\n",
       "      <td>1.001248</td>\n",
       "      <td>...</td>\n",
       "      <td>0.999794</td>\n",
       "      <td>1.009592</td>\n",
       "      <td>0.999908</td>\n",
       "      <td>1.003093</td>\n",
       "      <td>1.015858</td>\n",
       "      <td>0.993875</td>\n",
       "      <td>1.001081</td>\n",
       "      <td>0.984807</td>\n",
       "      <td>1.009065</td>\n",
       "      <td>1.005557</td>\n",
       "    </tr>\n",
       "    <tr>\n",
       "      <th>2</th>\n",
       "      <td>0.987278</td>\n",
       "      <td>1.020516</td>\n",
       "      <td>1.004214</td>\n",
       "      <td>1.017456</td>\n",
       "      <td>1.000739</td>\n",
       "      <td>0.999288</td>\n",
       "      <td>1.006019</td>\n",
       "      <td>1.007613</td>\n",
       "      <td>1.003972</td>\n",
       "      <td>0.996900</td>\n",
       "      <td>...</td>\n",
       "      <td>0.996815</td>\n",
       "      <td>1.003659</td>\n",
       "      <td>1.015240</td>\n",
       "      <td>1.009417</td>\n",
       "      <td>0.995176</td>\n",
       "      <td>0.995067</td>\n",
       "      <td>1.009339</td>\n",
       "      <td>0.979949</td>\n",
       "      <td>1.010063</td>\n",
       "      <td>1.010675</td>\n",
       "    </tr>\n",
       "    <tr>\n",
       "      <th>3</th>\n",
       "      <td>0.993245</td>\n",
       "      <td>1.013420</td>\n",
       "      <td>1.008160</td>\n",
       "      <td>1.016649</td>\n",
       "      <td>1.008912</td>\n",
       "      <td>1.015088</td>\n",
       "      <td>1.011685</td>\n",
       "      <td>1.017194</td>\n",
       "      <td>1.003132</td>\n",
       "      <td>0.999112</td>\n",
       "      <td>...</td>\n",
       "      <td>0.988185</td>\n",
       "      <td>0.999953</td>\n",
       "      <td>1.020835</td>\n",
       "      <td>1.010699</td>\n",
       "      <td>0.981403</td>\n",
       "      <td>0.988745</td>\n",
       "      <td>1.021505</td>\n",
       "      <td>0.975706</td>\n",
       "      <td>0.993828</td>\n",
       "      <td>1.002961</td>\n",
       "    </tr>\n",
       "    <tr>\n",
       "      <th>4</th>\n",
       "      <td>1.002527</td>\n",
       "      <td>1.014999</td>\n",
       "      <td>1.006325</td>\n",
       "      <td>1.023384</td>\n",
       "      <td>1.007368</td>\n",
       "      <td>1.023860</td>\n",
       "      <td>1.011998</td>\n",
       "      <td>1.005443</td>\n",
       "      <td>0.997840</td>\n",
       "      <td>0.998845</td>\n",
       "      <td>...</td>\n",
       "      <td>0.993645</td>\n",
       "      <td>0.992239</td>\n",
       "      <td>1.011895</td>\n",
       "      <td>1.009589</td>\n",
       "      <td>0.995208</td>\n",
       "      <td>1.004860</td>\n",
       "      <td>1.014183</td>\n",
       "      <td>0.984564</td>\n",
       "      <td>0.997631</td>\n",
       "      <td>0.995717</td>\n",
       "    </tr>\n",
       "    <tr>\n",
       "      <th>...</th>\n",
       "      <td>...</td>\n",
       "      <td>...</td>\n",
       "      <td>...</td>\n",
       "      <td>...</td>\n",
       "      <td>...</td>\n",
       "      <td>...</td>\n",
       "      <td>...</td>\n",
       "      <td>...</td>\n",
       "      <td>...</td>\n",
       "      <td>...</td>\n",
       "      <td>...</td>\n",
       "      <td>...</td>\n",
       "      <td>...</td>\n",
       "      <td>...</td>\n",
       "      <td>...</td>\n",
       "      <td>...</td>\n",
       "      <td>...</td>\n",
       "      <td>...</td>\n",
       "      <td>...</td>\n",
       "      <td>...</td>\n",
       "      <td>...</td>\n",
       "    </tr>\n",
       "    <tr>\n",
       "      <th>7556</th>\n",
       "      <td>17.727180</td>\n",
       "      <td>9.739050</td>\n",
       "      <td>42.318959</td>\n",
       "      <td>72.085499</td>\n",
       "      <td>3.523981</td>\n",
       "      <td>6.444600</td>\n",
       "      <td>23.823436</td>\n",
       "      <td>19.098829</td>\n",
       "      <td>15.752623</td>\n",
       "      <td>12.866322</td>\n",
       "      <td>...</td>\n",
       "      <td>26.672261</td>\n",
       "      <td>27.162192</td>\n",
       "      <td>7.340876</td>\n",
       "      <td>12.680541</td>\n",
       "      <td>6.882900</td>\n",
       "      <td>27.044998</td>\n",
       "      <td>14.260918</td>\n",
       "      <td>14.870604</td>\n",
       "      <td>36.055520</td>\n",
       "      <td>13.389885</td>\n",
       "    </tr>\n",
       "    <tr>\n",
       "      <th>7557</th>\n",
       "      <td>17.648824</td>\n",
       "      <td>9.662841</td>\n",
       "      <td>42.403161</td>\n",
       "      <td>72.344360</td>\n",
       "      <td>3.559002</td>\n",
       "      <td>6.494181</td>\n",
       "      <td>23.913519</td>\n",
       "      <td>19.100361</td>\n",
       "      <td>15.840746</td>\n",
       "      <td>12.911725</td>\n",
       "      <td>...</td>\n",
       "      <td>26.709964</td>\n",
       "      <td>26.851694</td>\n",
       "      <td>7.440740</td>\n",
       "      <td>12.949665</td>\n",
       "      <td>7.013225</td>\n",
       "      <td>26.845050</td>\n",
       "      <td>14.427112</td>\n",
       "      <td>14.945497</td>\n",
       "      <td>35.945985</td>\n",
       "      <td>13.387864</td>\n",
       "    </tr>\n",
       "    <tr>\n",
       "      <th>7558</th>\n",
       "      <td>17.640692</td>\n",
       "      <td>9.614947</td>\n",
       "      <td>42.307259</td>\n",
       "      <td>72.900966</td>\n",
       "      <td>3.557517</td>\n",
       "      <td>6.498320</td>\n",
       "      <td>23.814809</td>\n",
       "      <td>18.893391</td>\n",
       "      <td>15.875218</td>\n",
       "      <td>12.945087</td>\n",
       "      <td>...</td>\n",
       "      <td>26.333495</td>\n",
       "      <td>26.580278</td>\n",
       "      <td>7.437057</td>\n",
       "      <td>13.018826</td>\n",
       "      <td>7.075099</td>\n",
       "      <td>26.775610</td>\n",
       "      <td>14.310008</td>\n",
       "      <td>14.807190</td>\n",
       "      <td>36.545477</td>\n",
       "      <td>13.523016</td>\n",
       "    </tr>\n",
       "    <tr>\n",
       "      <th>7559</th>\n",
       "      <td>17.833642</td>\n",
       "      <td>9.699310</td>\n",
       "      <td>41.813755</td>\n",
       "      <td>72.096062</td>\n",
       "      <td>3.610454</td>\n",
       "      <td>6.513731</td>\n",
       "      <td>23.875183</td>\n",
       "      <td>19.348425</td>\n",
       "      <td>15.843186</td>\n",
       "      <td>12.814310</td>\n",
       "      <td>...</td>\n",
       "      <td>26.417322</td>\n",
       "      <td>26.538088</td>\n",
       "      <td>7.427549</td>\n",
       "      <td>12.939205</td>\n",
       "      <td>7.026885</td>\n",
       "      <td>26.916768</td>\n",
       "      <td>14.318738</td>\n",
       "      <td>14.875075</td>\n",
       "      <td>36.450096</td>\n",
       "      <td>13.481354</td>\n",
       "    </tr>\n",
       "    <tr>\n",
       "      <th>7560</th>\n",
       "      <td>17.852294</td>\n",
       "      <td>9.757701</td>\n",
       "      <td>41.896731</td>\n",
       "      <td>72.808744</td>\n",
       "      <td>3.603516</td>\n",
       "      <td>6.540229</td>\n",
       "      <td>23.929156</td>\n",
       "      <td>19.392400</td>\n",
       "      <td>15.951577</td>\n",
       "      <td>12.847162</td>\n",
       "      <td>...</td>\n",
       "      <td>26.360968</td>\n",
       "      <td>26.542166</td>\n",
       "      <td>7.500636</td>\n",
       "      <td>12.986472</td>\n",
       "      <td>7.038330</td>\n",
       "      <td>27.013515</td>\n",
       "      <td>14.351296</td>\n",
       "      <td>14.744521</td>\n",
       "      <td>36.808304</td>\n",
       "      <td>13.213113</td>\n",
       "    </tr>\n",
       "  </tbody>\n",
       "</table>\n",
       "<p>7561 rows × 500 columns</p>\n",
       "</div>"
      ],
      "text/plain": [
       "            0         1          2          3         4         5    \\\n",
       "0      1.000000  1.000000   1.000000   1.000000  1.000000  1.000000   \n",
       "1      0.989890  1.000164   1.003898   1.005127  1.010227  1.000072   \n",
       "2      0.987278  1.020516   1.004214   1.017456  1.000739  0.999288   \n",
       "3      0.993245  1.013420   1.008160   1.016649  1.008912  1.015088   \n",
       "4      1.002527  1.014999   1.006325   1.023384  1.007368  1.023860   \n",
       "...         ...       ...        ...        ...       ...       ...   \n",
       "7556  17.727180  9.739050  42.318959  72.085499  3.523981  6.444600   \n",
       "7557  17.648824  9.662841  42.403161  72.344360  3.559002  6.494181   \n",
       "7558  17.640692  9.614947  42.307259  72.900966  3.557517  6.498320   \n",
       "7559  17.833642  9.699310  41.813755  72.096062  3.610454  6.513731   \n",
       "7560  17.852294  9.757701  41.896731  72.808744  3.603516  6.540229   \n",
       "\n",
       "            6          7          8          9    ...        490        491  \\\n",
       "0      1.000000   1.000000   1.000000   1.000000  ...   1.000000   1.000000   \n",
       "1      0.996868   1.012456   1.000110   1.001248  ...   0.999794   1.009592   \n",
       "2      1.006019   1.007613   1.003972   0.996900  ...   0.996815   1.003659   \n",
       "3      1.011685   1.017194   1.003132   0.999112  ...   0.988185   0.999953   \n",
       "4      1.011998   1.005443   0.997840   0.998845  ...   0.993645   0.992239   \n",
       "...         ...        ...        ...        ...  ...        ...        ...   \n",
       "7556  23.823436  19.098829  15.752623  12.866322  ...  26.672261  27.162192   \n",
       "7557  23.913519  19.100361  15.840746  12.911725  ...  26.709964  26.851694   \n",
       "7558  23.814809  18.893391  15.875218  12.945087  ...  26.333495  26.580278   \n",
       "7559  23.875183  19.348425  15.843186  12.814310  ...  26.417322  26.538088   \n",
       "7560  23.929156  19.392400  15.951577  12.847162  ...  26.360968  26.542166   \n",
       "\n",
       "           492        493       494        495        496        497  \\\n",
       "0     1.000000   1.000000  1.000000   1.000000   1.000000   1.000000   \n",
       "1     0.999908   1.003093  1.015858   0.993875   1.001081   0.984807   \n",
       "2     1.015240   1.009417  0.995176   0.995067   1.009339   0.979949   \n",
       "3     1.020835   1.010699  0.981403   0.988745   1.021505   0.975706   \n",
       "4     1.011895   1.009589  0.995208   1.004860   1.014183   0.984564   \n",
       "...        ...        ...       ...        ...        ...        ...   \n",
       "7556  7.340876  12.680541  6.882900  27.044998  14.260918  14.870604   \n",
       "7557  7.440740  12.949665  7.013225  26.845050  14.427112  14.945497   \n",
       "7558  7.437057  13.018826  7.075099  26.775610  14.310008  14.807190   \n",
       "7559  7.427549  12.939205  7.026885  26.916768  14.318738  14.875075   \n",
       "7560  7.500636  12.986472  7.038330  27.013515  14.351296  14.744521   \n",
       "\n",
       "            498        499  \n",
       "0      1.000000   1.000000  \n",
       "1      1.009065   1.005557  \n",
       "2      1.010063   1.010675  \n",
       "3      0.993828   1.002961  \n",
       "4      0.997631   0.995717  \n",
       "...         ...        ...  \n",
       "7556  36.055520  13.389885  \n",
       "7557  35.945985  13.387864  \n",
       "7558  36.545477  13.523016  \n",
       "7559  36.450096  13.481354  \n",
       "7560  36.808304  13.213113  \n",
       "\n",
       "[7561 rows x 500 columns]"
      ]
     },
     "execution_count": 30,
     "metadata": {},
     "output_type": "execute_result"
    }
   ],
   "source": [
    "# Running a Monte Carlo simulation to forecast 30 years cumulative returns\n",
    "MC_30years.calc_cumulative_return()"
   ]
  },
  {
   "cell_type": "code",
   "execution_count": 31,
   "metadata": {},
   "outputs": [
    {
     "data": {
      "image/png": "[encoded data removed]",
      "text/plain": [
       "<Figure size 432x288 with 1 Axes>"
      ]
     },
     "metadata": {
      "needs_background": "light"
     },
     "output_type": "display_data"
    }
   ],
   "source": [
    "# Plot simulation outcomes\n",
    "line_plot = MC_30years.plot_simulation()"
   ]
  },
  {
   "cell_type": "code",
   "execution_count": 32,
   "metadata": {},
   "outputs": [
    {
     "data": {
      "image/png": "[encoded data removed]",
      "text/plain": [
       "<Figure size 432x288 with 1 Axes>"
      ]
     },
     "metadata": {
      "needs_background": "light"
     },
     "output_type": "display_data"
    }
   ],
   "source": [
    "# Plot probability distribution and confidence intervals\n",
    "dist_plot = MC_30years.plot_distribution()"
   ]
  },
  {
   "cell_type": "markdown",
   "metadata": {},
   "source": [
    "### Retirement Analysis"
   ]
  },
  {
   "cell_type": "code",
   "execution_count": 33,
   "metadata": {},
   "outputs": [
    {
     "name": "stdout",
     "output_type": "stream",
     "text": [
      "count           500.000000\n",
      "mean             19.882391\n",
      "std              14.711646\n",
      "min               1.680135\n",
      "25%              10.092501\n",
      "50%              15.998569\n",
      "75%              25.231716\n",
      "max             104.141257\n",
      "95% CI Lower      3.510175\n",
      "95% CI Upper     58.658956\n",
      "Name: 7560, dtype: float64\n"
     ]
    }
   ],
   "source": [
    "# Fetch summary statistics from the Monte Carlo simulation results\n",
    "tbl = MC_30years.summarize_cumulative_return()\n",
    "# Print summary statistics\n",
    "print(tbl)"
   ]
  },
  {
   "cell_type": "markdown",
   "metadata": {},
   "source": [
    "### Calculate the expected portfolio return at the `95%` lower and upper confidence intervals based on a `$20,000` initial investment."
   ]
  },
  {
   "cell_type": "code",
   "execution_count": 35,
   "metadata": {},
   "outputs": [
    {
     "name": "stdout",
     "output_type": "stream",
     "text": [
      "There is a 95% chance that an initial investment of $20000 in the portfolio over the next 30 years will end within in the range of $70203.49 and $1173179.11\n"
     ]
    }
   ],
   "source": [
    "# Set initial investment\n",
    "initial_investment = 20000\n",
    "\n",
    "# Use the lower and upper `95%` confidence intervals to calculate the range of the possible outcomes of our $20,000\n",
    "ci_lower = round(tbl[8]*20000,2)\n",
    "ci_upper = round(tbl[9]*20000,2)\n",
    "# Print results\n",
    "print(f\"There is a 95% chance that an initial investment of ${initial_investment} in the portfolio\"\n",
    "      f\" over the next 30 years will end within in the range of\"\n",
    "      f\" ${ci_lower} and ${ci_upper}\")"
   ]
  },
  {
   "cell_type": "markdown",
   "metadata": {},
   "source": [
    "### Calculate the expected portfolio return at the `95%` lower and upper confidence intervals based on a `50%` increase in the initial investment."
   ]
  },
  {
   "cell_type": "code",
   "execution_count": 36,
   "metadata": {},
   "outputs": [
    {
     "name": "stdout",
     "output_type": "stream",
     "text": [
      "There is a 95% chance that an initial investment of $30000.0 in the portfolio over the next 30 years will end within in the range of $105305.24 and $1759768.67\n"
     ]
    }
   ],
   "source": [
    "# Set initial investment\n",
    "initial_investment1 = 20000 * 1.5\n",
    "\n",
    "# Use the lower and upper `95%` confidence intervals to calculate the range of the possible outcomes of our $30,000\n",
    "ci_lower = round(tbl[8] * initial_investment1,2)\n",
    "ci_upper = round(tbl[9] * initial_investment1,2)\n",
    "\n",
    "# Print results\n",
    "print(f\"There is a 95% chance that an initial investment of ${initial_investment1} in the portfolio\"\n",
    "      f\" over the next 30 years will end within in the range of\"\n",
    "      f\" ${ci_lower} and ${ci_upper}\")"
   ]
  },
  {
   "cell_type": "markdown",
   "metadata": {},
   "source": [
    "## Optional Challenge - Early Retirement\n",
    "\n",
    "\n",
    "### Five Years Retirement Option"
   ]
  },
  {
   "cell_type": "code",
   "execution_count": null,
   "metadata": {},
   "outputs": [],
   "source": [
    "# Configuring a Monte Carlo simulation to forecast 5 years cumulative returns\n",
    "# YOUR CODE HERE!"
   ]
  },
  {
   "cell_type": "code",
   "execution_count": null,
   "metadata": {},
   "outputs": [],
   "source": [
    "# Running a Monte Carlo simulation to forecast 5 years cumulative returns\n",
    "# YOUR CODE HERE!"
   ]
  },
  {
   "cell_type": "code",
   "execution_count": null,
   "metadata": {},
   "outputs": [],
   "source": [
    "# Plot simulation outcomes\n",
    "# YOUR CODE HERE!"
   ]
  },
  {
   "cell_type": "code",
   "execution_count": null,
   "metadata": {},
   "outputs": [],
   "source": [
    "# Plot probability distribution and confidence intervals\n",
    "# YOUR CODE HERE!"
   ]
  },
  {
   "cell_type": "code",
   "execution_count": null,
   "metadata": {},
   "outputs": [],
   "source": [
    "# Fetch summary statistics from the Monte Carlo simulation results\n",
    "# YOUR CODE HERE!\n",
    "\n",
    "# Print summary statistics\n",
    "# YOUR CODE HERE!"
   ]
  },
  {
   "cell_type": "code",
   "execution_count": null,
   "metadata": {},
   "outputs": [],
   "source": [
    "# Set initial investment\n",
    "# YOUR CODE HERE!\n",
    "\n",
    "# Use the lower and upper `95%` confidence intervals to calculate the range of the possible outcomes of our $60,000\n",
    "# YOUR CODE HERE!\n",
    "\n",
    "# Print results\n",
    "print(f\"There is a 95% chance that an initial investment of ${initial_investment} in the portfolio\"\n",
    "      f\" over the next 5 years will end within in the range of\"\n",
    "      f\" ${ci_lower_five} and ${ci_upper_five}\")"
   ]
  },
  {
   "cell_type": "markdown",
   "metadata": {},
   "source": [
    "### Ten Years Retirement Option"
   ]
  },
  {
   "cell_type": "code",
   "execution_count": null,
   "metadata": {},
   "outputs": [],
   "source": [
    "# Configuring a Monte Carlo simulation to forecast 10 years cumulative returns\n",
    "# YOUR CODE HERE!"
   ]
  },
  {
   "cell_type": "code",
   "execution_count": null,
   "metadata": {},
   "outputs": [],
   "source": [
    "# Running a Monte Carlo simulation to forecast 10 years cumulative returns\n",
    "# YOUR CODE HERE!"
   ]
  },
  {
   "cell_type": "code",
   "execution_count": null,
   "metadata": {},
   "outputs": [],
   "source": [
    "# Plot simulation outcomes\n",
    "# YOUR CODE HERE!"
   ]
  },
  {
   "cell_type": "code",
   "execution_count": null,
   "metadata": {},
   "outputs": [],
   "source": [
    "# Plot probability distribution and confidence intervals\n",
    "# YOUR CODE HERE!"
   ]
  },
  {
   "cell_type": "code",
   "execution_count": null,
   "metadata": {},
   "outputs": [],
   "source": [
    "# Fetch summary statistics from the Monte Carlo simulation results\n",
    "# YOUR CODE HERE!\n",
    "\n",
    "# Print summary statistics\n",
    "# YOUR CODE HERE!"
   ]
  },
  {
   "cell_type": "code",
   "execution_count": null,
   "metadata": {},
   "outputs": [],
   "source": [
    "# Set initial investment\n",
    "# YOUR CODE HERE!\n",
    "\n",
    "# Use the lower and upper `95%` confidence intervals to calculate the range of the possible outcomes of our $60,000\n",
    "# YOUR CODE HERE!\n",
    "\n",
    "# Print results\n",
    "print(f\"There is a 95% chance that an initial investment of ${initial_investment} in the portfolio\"\n",
    "      f\" over the next 10 years will end within in the range of\"\n",
    "      f\" ${ci_lower_ten} and ${ci_upper_ten}\")"
   ]
  },
  {
   "cell_type": "code",
   "execution_count": null,
   "metadata": {},
   "outputs": [],
   "source": []
  }
 ],
 "metadata": {
  "kernelspec": {
   "display_name": "Python 3",
   "language": "python",
   "name": "python3"
  },
  "language_info": {
   "codemirror_mode": {
    "name": "ipython",
    "version": 3
   },
   "file_extension": ".py",
   "mimetype": "text/x-python",
   "name": "python",
   "nbconvert_exporter": "python",
   "pygments_lexer": "ipython3",
   "version": "3.7.10"
  },
  "nteract": {
   "version": "0.28.0"
  }
 },
 "nbformat": 4,
 "nbformat_minor": 4
}
